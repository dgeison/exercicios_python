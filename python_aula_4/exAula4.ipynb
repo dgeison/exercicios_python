{
 "cells": [
  {
   "cell_type": "code",
   "execution_count": null,
   "id": "9bbfa1e6",
   "metadata": {},
   "outputs": [],
   "source": [
    "#  Aula Prática – Integração entre PostgreSQL (Pagila) e APIs com Python\n",
    "\n",
    "# Nesta atividade, você irá:\n",
    "# - Consultar dados da base Pagila com `psycopg2`\n",
    "# - Integrar dados climáticos e populacionais usando APIs externas\n",
    "# - Analisar, transformar e visualizar os dados\n",
    "# - Praticar o uso de Pandas, APIs, SQL e operações avançadas como `lambda`, `groupby`, `merge`, entre outras"
   ]
  },
  {
   "cell_type": "code",
   "execution_count": null,
   "id": "46fd9380",
   "metadata": {},
   "outputs": [],
   "source": [
    "import os\n",
    "\n",
    "import matplotlib.pyplot as plt\n",
    "import pandas as pd\n",
    "import psycopg2\n",
    "import requests\n",
    "import seaborn as sns\n",
    "from dotenv import load_dotenv\n",
    "\n",
    "from tabulate import tabulate"
   ]
  },
  {
   "cell_type": "code",
   "execution_count": null,
   "id": "1255d208",
   "metadata": {},
   "outputs": [
    {
     "name": "stdout",
     "output_type": "stream",
     "text": [
      "PostgreSQL version: PostgreSQL 16.8 on x86_64-pc-linux-gnu, compiled by gcc (GCC) 14.2.1 20240912 (Red Hat 14.2.1-3), 64-bit\n"
     ]
    }
   ],
   "source": [
    "# Carregar variáveis de ambiente\n",
    "load_dotenv()\n",
    "\n",
    "# Obter as variáveis de ambiente\n",
    "db = os.getenv(\"PG_DB\")\n",
    "user = os.getenv(\"PG_USER\")\n",
    "password = os.getenv(\"PG_PASSWORD\")\n",
    "host = os.getenv(\"PG_HOST\")\n",
    "port = os.getenv(\"PG_PORT\")\n",
    "sslmode = os.getenv(\"PG_SSLMODE\")\n",
    "\n",
    "conn = psycopg2.connect(\n",
    "    dbname=db, user=user, password=password, host=host, port=port, sslmode=sslmode\n",
    ")\n",
    "\n",
    "query_sql = \"SELECT VERSION()\"\n",
    "\n",
    "cur = conn.cursor()\n",
    "cur.execute(query_sql)\n",
    "\n",
    "version = cur.fetchone()[0]\n",
    "print(f\"PostgreSQL version: {version}\")\n",
    "\n",
    "# # Fechar a conexão\n",
    "# cur.close()\n",
    "# conn.close()"
   ]
  },
  {
   "cell_type": "code",
   "execution_count": 8,
   "id": "2851941c",
   "metadata": {},
   "outputs": [],
   "source": [
    "def run_query(sql, conn=conn):\n",
    "    \"\"\"\n",
    "    Executes a SQL query on the provided database connection and returns the result as a DataFrame.\n",
    "\n",
    "    Args:\n",
    "        sql (str): The SQL query to be executed.\n",
    "        conn (psycopg2.extensions.connection): The database connection object.\n",
    "\n",
    "    Returns:\n",
    "        pandas.DataFrame: A DataFrame containing the results of the SQL query.\n",
    "    \"\"\"\n",
    "    return pd.read_sql_query(sql, conn)"
   ]
  },
  {
   "cell_type": "code",
   "execution_count": 9,
   "id": "f66990b4",
   "metadata": {},
   "outputs": [
    {
     "name": "stdout",
     "output_type": "stream",
     "text": [
      "A temperatura atual em São Paulo é 16.7°C\n"
     ]
    }
   ],
   "source": [
    "def buscar_clima(cidade):\n",
    "    api_key = os.getenv(\"WEATHER_KEY\")\n",
    "    try:\n",
    "        url = \"http://api.weatherapi.com/v1/current.json?\" f\"key={api_key}&q={cidade}\"\n",
    "        resposta = requests.get(url, timeout=10)\n",
    "        return resposta.json()[\"current\"][\"temp_c\"]\n",
    "    except Exception as e:\n",
    "        print(f\"Error fetching weather data: {e}\")\n",
    "        return None\n",
    "\n",
    "\n",
    "cidade = buscar_clima(\"São Paulo\")\n",
    "\n",
    "print(f\"A temperatura atual em São Paulo é {cidade}°C\")"
   ]
  },
  {
   "cell_type": "code",
   "execution_count": null,
   "id": "4eb22da2",
   "metadata": {},
   "outputs": [],
   "source": [
    "def merge_client_weather(df_cidades):\n",
    "    # Aplicar em uma amostra das cidades\n",
    "    amostra = df_cidades[\"city\"].drop_duplicates().head(10)\n",
    "    df_clima = pd.DataFrame({\"cidade\": amostra})\n",
    "    df_clima[\"temperatura\"] = df_clima[\"cidade\"].apply(buscar_clima)\n",
    "    # print(df_clima.head())\n",
    "\n",
    "    # Exemplo de merge\n",
    "    df_analise = df_cidades.merge(\n",
    "        df_clima, how=\"left\", left_on=\"city\", right_on=\"cidade\"\n",
    "    )\n",
    "    print(tabulate(df_analise.head(10), headers=\"keys\", tablefmt=\"pretty\"))\n",
    "    return df_analise"
   ]
  },
  {
   "cell_type": "code",
   "execution_count": 11,
   "id": "c934adf7",
   "metadata": {},
   "outputs": [
    {
     "name": "stderr",
     "output_type": "stream",
     "text": [
      "C:\\Users\\dgeis\\AppData\\Local\\Temp\\ipykernel_1468\\968903793.py:12: UserWarning: pandas only supports SQLAlchemy connectable (engine/connection) or database string URI or sqlite3 DBAPI2 connection. Other DBAPI2 objects are not tested. Please consider using SQLAlchemy.\n",
      "  return pd.read_sql_query(sql, conn)\n"
     ]
    },
    {
     "name": "stdout",
     "output_type": "stream",
     "text": [
      "Error fetching weather data: 'current'\n",
      "+---+------------------+----------------+------------------+-------------+\n",
      "|   |       city       | num_transacoes |      cidade      | temperatura |\n",
      "+---+------------------+----------------+------------------+-------------+\n",
      "| 0 |     Springs      |       58       |     Springs      |     9.4     |\n",
      "| 1 |      Aurora      |       50       |      Aurora      |    27.7     |\n",
      "| 2 |      London      |       48       |      London      |    13.2     |\n",
      "| 3 |   Saint-Denis    |       46       |   Saint-Denis    |    20.0     |\n",
      "| 4 |    Cape Coral    |       45       |    Cape Coral    |    25.6     |\n",
      "| 5 |    Molodetno     |       42       |    Molodetno     |     nan     |\n",
      "| 6 |      Tanza       |       42       |      Tanza       |    28.9     |\n",
      "| 7 |     Changhwa     |       41       |     Changhwa     |    20.8     |\n",
      "| 8 |    Changzhou     |       40       |    Changzhou     |    22.9     |\n",
      "| 9 | Ourense (Orense) |       40       | Ourense (Orense) |     7.1     |\n",
      "+---+------------------+----------------+------------------+-------------+\n"
     ]
    }
   ],
   "source": [
    "## https://github.com/devrimgunduz/pagila/tree/master\n",
    "\n",
    "\n",
    "#   Exercício 1 – Temperatura Média das Capitais dos Clientes\n",
    "# \t•\tRecupere as cidades dos clientes com mais de 10 transações.\n",
    "# \t•\tUse a WeatherAPI para buscar a temperatura atual dessas cidades.\n",
    "# \t•\tCalcule a temperatura média ponderada por número de clientes.\n",
    "# \t•\tInsight esperado: quais cidades concentram clientes e temperaturas extremas?\n",
    "\n",
    "# ⸻\n",
    "\n",
    "\n",
    "# Exemplo de query\n",
    "query_cidades = \"\"\"\n",
    "SELECT \n",
    "    ci.city, \n",
    "    COUNT(p.payment_id) AS num_transacoes\n",
    "FROM payment p\n",
    "    JOIN customer c ON p.customer_id = c.customer_id\n",
    "    JOIN address a ON c.address_id = a.address_id\n",
    "    JOIN city ci ON a.city_id = ci.city_id\n",
    "GROUP BY ci.city\n",
    "HAVING COUNT(p.payment_id) > 10\n",
    "ORDER BY num_transacoes DESC;\n",
    "\"\"\"\n",
    "\n",
    "df_cidades = run_query(query_cidades)\n",
    "\n",
    "df_analise = merge_client_weather(df_cidades)"
   ]
  },
  {
   "cell_type": "code",
   "execution_count": null,
   "id": "9e16baf2",
   "metadata": {},
   "outputs": [],
   "source": [
    "#   Exercício 2 – Receita Bruta em Cidades com Clima Ameno\n",
    "# \t•\tCalcule a receita bruta por cidade.\n",
    "# \t•\tUse a WeatherAPI para consultar a temperatura atual.\n",
    "# \t•\tFiltre apenas cidades com temperatura entre 18°C e 24°C.\n",
    "# \t•\tResultado: qual o faturamento total vindo dessas cidades?\n",
    "\n",
    "\n",
    "# ⸻"
   ]
  },
  {
   "cell_type": "code",
   "execution_count": null,
   "id": "2a57c921",
   "metadata": {},
   "outputs": [],
   "source": [
    "#   Exercício 3 – Aluguel de Filmes por Região e População\n",
    "# \t•\tIdentifique os países dos clientes com maior número de aluguéis.\n",
    "# \t•\tUse a REST Countries API para obter a população desses países.\n",
    "# \t•\tCalcule o número de aluguéis por 1.000 habitantes.\n",
    "# \t•\tAnálise: quais países são mais “cinéfilos” proporcionalmente?\n",
    "\n",
    "# ⸻\n",
    "\n",
    "#   Exercício 4 – Filmes Mais Populares em Cidades Poluídas\n",
    "# \t•\tListe as 10 cidades com maior número de clientes.\n",
    "# \t•\tUse a AirVisual API para consultar o AQI dessas cidades.\n",
    "# \t•\tRelacione os filmes mais alugados em cidades com AQI > 150.\n",
    "# \t•\tDiscussão: poluição impacta preferências de filmes?\n",
    "\n",
    "# ⸻\n",
    "\n",
    "#   Exercício 5 – Clientes em Áreas Críticas\n",
    "# \t•\tRecupere os clientes com endereço em cidades com AQI acima de 130.\n",
    "# \t•\tCombine nome do cliente, cidade, país, temperatura e AQI.\n",
    "# \t•\tClassifique os clientes em “zona de atenção” com base nos critérios ambientais.\n",
    "\n",
    "# ⸻\n",
    "\n",
    "#   Exercício 6 – Receita por Continente\n",
    "# \t•\tUse a REST Countries API para mapear o continente de cada país.\n",
    "# \t•\tAgrupe a receita total por continente.\n",
    "# \t•\tExiba os resultados em um gráfico de pizza com matplotlib.\n",
    "\n",
    "# ⸻\n",
    "\n",
    "#   Exercício 7 – Tempo Médio de Aluguel vs Clima\n",
    "# \t•\tCalcule o tempo médio de aluguel por cidade (entre rental_date e return_date).\n",
    "# \t•\tCombine com a temperatura atual dessas cidades.\n",
    "# \t•\tVisualize a correlação entre temperatura e tempo médio de aluguel (scatterplot + linha de tendência).\n",
    "\n",
    "# ⸻\n",
    "\n",
    "#   Exercício 8 – Perfil de Clima por Cliente\n",
    "# \t•\tPara cada cliente, crie um perfil com:\n",
    "# \t•\tcidade, temperatura, AQI, total de aluguéis, gasto total.\n",
    "# \t•\tAgrupe os perfis por faixa etária (simulada ou fictícia) e avalie padrões.\n",
    "# \t•\tObjetivo: conectar comportamento de consumo e ambiente.\n",
    "\n",
    "# ⸻\n",
    "\n",
    "#   Exercício 9 – Exportação Inteligente\n",
    "# \t•\tGere um relatório Excel com os seguintes critérios:\n",
    "# \t•\tClientes de países com temperatura < 15°C\n",
    "# \t•\tAQI acima de 100\n",
    "# \t•\tReceita individual > média geral\n",
    "# \t•\tUtilize OpenPyXL e organize em múltiplas abas: Clientes, Temperaturas, Alertas.\n",
    "\n",
    "# ⸻\n",
    "\n",
    "#   Exercício 10 – API Cache Inteligente (Desafio)\n",
    "# \t•\tImplemente uma lógica que salve os dados de clima e AQI localmente em CSV.\n",
    "# \t•\tAo consultar novamente a mesma cidade, busque do CSV ao invés da API.\n",
    "# \t•\tEvite chamadas redundantes — bom para práticas de performance e economia de requisições."
   ]
  }
 ],
 "metadata": {
  "kernelspec": {
   "display_name": ".pyenv",
   "language": "python",
   "name": "python3"
  },
  "language_info": {
   "codemirror_mode": {
    "name": "ipython",
    "version": 3
   },
   "file_extension": ".py",
   "mimetype": "text/x-python",
   "name": "python",
   "nbconvert_exporter": "python",
   "pygments_lexer": "ipython3",
   "version": "3.13.2"
  }
 },
 "nbformat": 4,
 "nbformat_minor": 5
}
