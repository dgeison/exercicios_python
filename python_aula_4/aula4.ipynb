{
 "cells": [
  {
   "cell_type": "code",
   "execution_count": 1,
   "id": "42ed2896",
   "metadata": {},
   "outputs": [],
   "source": [
    "#  Aula Prática – Integração entre PostgreSQL (Pagila) e APIs com Python\n",
    "\n",
    "# Nesta atividade, você irá:\n",
    "# - Consultar dados da base Pagila com `psycopg2`\n",
    "# - Integrar dados climáticos e populacionais usando APIs externas\n",
    "# - Analisar, transformar e visualizar os dados\n",
    "# - Praticar o uso de Pandas, APIs, SQL e operações avançadas como `lambda`, `groupby`, `merge`, entre outras"
   ]
  },
  {
   "cell_type": "code",
   "execution_count": 2,
   "id": "5c8a1bf7",
   "metadata": {},
   "outputs": [],
   "source": [
    "import os\n",
    "\n",
    "import matplotlib.pyplot as plt\n",
    "import pandas as pd\n",
    "import psycopg2\n",
    "import requests\n",
    "import seaborn as sns\n",
    "import time\n",
    "from dotenv import load_dotenv\n",
    "from concurrent.futures import ThreadPoolExecutor, as_completed\n",
    "from tabulate import tabulate"
   ]
  },
  {
   "cell_type": "code",
   "execution_count": null,
   "id": "531f9372",
   "metadata": {},
   "outputs": [
    {
     "data": {
      "text/plain": [
       "True"
      ]
     },
     "execution_count": 3,
     "metadata": {},
     "output_type": "execute_result"
    }
   ],
   "source": [
    "# Carregar variáveis de ambiente\n",
    "load_dotenv()\n",
    "\n",
    "# String de conexão\n",
    "user = os.getenv(\"PG_USER\")\n",
    "password = os.getenv(\"PG_PASSWORD\")\n",
    "host = os.getenv(\"PG_HOST\")\n",
    "db = os.getenv(\"PG_DB\")\n",
    "port = os.getenv(\"PG_PORT\")\n",
    "api_key = os.getenv(\"WEATHER_KEY\")\n",
    "\n",
    "# Conexão com o banco de dados\n",
    "engine = psycopg2.connect(\n",
    "    f\"postgresql://{user}:{password}@{host}:{port}/{db}?sslmode=require\"\n",
    ")"
   ]
  },
  {
   "cell_type": "code",
   "execution_count": null,
   "id": "da46b262",
   "metadata": {},
   "outputs": [
    {
     "name": "stdout",
     "output_type": "stream",
     "text": [
      "A temperatura atual em Belo Horizonte é de 24.0°C\n"
     ]
    }
   ],
   "source": [
    "def obter_clima_cidade(cidade):\n",
    "    \"\"\"\n",
    "    Obtém a temperatura atual de uma cidade usando a API do WeatherAPI.\n",
    "\n",
    "    Args:\n",
    "        cidade (str): Nome da cidade.\n",
    "\n",
    "    Returns:\n",
    "        float or None: Temperatura atual em graus Celsius, ou None se não encontrado.\n",
    "    \"\"\"\n",
    "    try:\n",
    "        url = f\"http://api.weatherapi.com/v1/current.json?key={api_key}&q={cidade}\"\n",
    "        resposta = requests.get(url, timeout=10)\n",
    "        dados = resposta.json()\n",
    "        if \"current\" not in dados:\n",
    "            # print(f\"Clima não encontrado para: {cidade} | Resposta: {dados.get('error', dados)}\")\n",
    "            return None\n",
    "        else:\n",
    "            return dados[\"current\"][\"temp_c\"]\n",
    "    except Exception as e:\n",
    "        print(f\"Error fetching weather data: {e}\")\n",
    "        return None\n",
    "\n",
    "\n",
    "# Exemplo de teste\n",
    "cidade = \"Belo Horizonte\"\n",
    "print(f\"A temperatura atual em {cidade} é de {obter_clima_cidade(cidade)}°C\")"
   ]
  },
  {
   "cell_type": "code",
   "execution_count": null,
   "id": "c614a757",
   "metadata": {},
   "outputs": [],
   "source": [
    "def temperatura_cidades(df_cidades):\n",
    "    \"\"\"\n",
    "    Função para obter a temperatura de várias cidades.\n",
    "\n",
    "    Args:\n",
    "        df_cidades (pd.DataFrame): DataFrame com as cidades.\n",
    "\n",
    "    Returns:\n",
    "        pd.DataFrame: DataFrame com as cidades e suas respectivas temperaturas.\n",
    "    \"\"\"\n",
    "    \n",
    "    amostra = df_cidades[\"cidades\"].drop_duplicates()\n",
    "    df_clima = pd.DataFrame({\"cidade\": amostra})\n",
    "    df_clima[\"temperatura\"] = df_clima[\"cidade\"].apply(obter_clima_cidade)\n",
    "\n",
    "    df_analise = df_cidades.merge(\n",
    "        df_clima, how=\"left\", left_on=\"cidades\", right_on=\"cidade\"\n",
    "    )\n",
    "    df_analise = df_analise.drop(columns=[\"cidade\"])\n",
    "    return df_analise"
   ]
  },
  {
   "cell_type": "code",
   "execution_count": null,
   "id": "504623cb",
   "metadata": {},
   "outputs": [],
   "source": [
    "def run_query(sql, coon=engine):\n",
    "    \"\"\"\n",
    "    Executa uma consulta SQL na conexão de banco de dados fornecida e retorna o resultado como um DataFrame.\n",
    "\n",
    "    Args:\n",
    "        sql (str): Consulta SQL a ser executada.\n",
    "        coon: Objeto de conexão do banco de dados (por padrão, usa 'engine').\n",
    "\n",
    "    Returns:\n",
    "        pd.DataFrame: DataFrame contendo os resultados da consulta SQL.\n",
    "    \"\"\"\n",
    "    return pd.read_sql_query(sql, coon)"
   ]
  },
  {
   "cell_type": "code",
   "execution_count": null,
   "id": "992641d5",
   "metadata": {},
   "outputs": [
    {
     "name": "stderr",
     "output_type": "stream",
     "text": [
      "C:\\Users\\dgeis\\AppData\\Local\\Temp\\ipykernel_9732\\583913406.py:12: UserWarning: pandas only supports SQLAlchemy connectable (engine/connection) or database string URI or sqlite3 DBAPI2 connection. Other DBAPI2 objects are not tested. Please consider using SQLAlchemy.\n",
      "  return pd.read_sql_query(sql, coon)\n"
     ]
    },
    {
     "data": {
      "text/html": [
       "<div>\n",
       "<style scoped>\n",
       "    .dataframe tbody tr th:only-of-type {\n",
       "        vertical-align: middle;\n",
       "    }\n",
       "\n",
       "    .dataframe tbody tr th {\n",
       "        vertical-align: top;\n",
       "    }\n",
       "\n",
       "    .dataframe thead th {\n",
       "        text-align: right;\n",
       "    }\n",
       "</style>\n",
       "<table border=\"1\" class=\"dataframe\">\n",
       "  <thead>\n",
       "    <tr style=\"text-align: right;\">\n",
       "      <th></th>\n",
       "      <th>customer_id</th>\n",
       "      <th>first_name</th>\n",
       "      <th>last_name</th>\n",
       "      <th>city</th>\n",
       "      <th>country</th>\n",
       "    </tr>\n",
       "  </thead>\n",
       "  <tbody>\n",
       "    <tr>\n",
       "      <th>0</th>\n",
       "      <td>1</td>\n",
       "      <td>MARY</td>\n",
       "      <td>SMITH</td>\n",
       "      <td>Sasebo</td>\n",
       "      <td>Japan</td>\n",
       "    </tr>\n",
       "    <tr>\n",
       "      <th>1</th>\n",
       "      <td>2</td>\n",
       "      <td>PATRICIA</td>\n",
       "      <td>JOHNSON</td>\n",
       "      <td>San Bernardino</td>\n",
       "      <td>United States</td>\n",
       "    </tr>\n",
       "    <tr>\n",
       "      <th>2</th>\n",
       "      <td>3</td>\n",
       "      <td>LINDA</td>\n",
       "      <td>WILLIAMS</td>\n",
       "      <td>Athenai</td>\n",
       "      <td>Greece</td>\n",
       "    </tr>\n",
       "    <tr>\n",
       "      <th>3</th>\n",
       "      <td>4</td>\n",
       "      <td>BARBARA</td>\n",
       "      <td>JONES</td>\n",
       "      <td>Myingyan</td>\n",
       "      <td>Myanmar</td>\n",
       "    </tr>\n",
       "    <tr>\n",
       "      <th>4</th>\n",
       "      <td>5</td>\n",
       "      <td>ELIZABETH</td>\n",
       "      <td>BROWN</td>\n",
       "      <td>Nantou</td>\n",
       "      <td>Taiwan</td>\n",
       "    </tr>\n",
       "  </tbody>\n",
       "</table>\n",
       "</div>"
      ],
      "text/plain": [
       "   customer_id first_name last_name            city        country\n",
       "0            1       MARY     SMITH          Sasebo          Japan\n",
       "1            2   PATRICIA   JOHNSON  San Bernardino  United States\n",
       "2            3      LINDA  WILLIAMS         Athenai         Greece\n",
       "3            4    BARBARA     JONES        Myingyan        Myanmar\n",
       "4            5  ELIZABETH     BROWN          Nantou         Taiwan"
      ]
     },
     "metadata": {},
     "output_type": "display_data"
    }
   ],
   "source": [
    "def fetch_client_data():\n",
    "    q_customer = \"\"\"\n",
    "    SELECT \n",
    "        c.customer_id, \n",
    "        c.first_name, \n",
    "        c.last_name, \n",
    "        ci.city, \n",
    "        co.country\n",
    "    FROM customer c\n",
    "    JOIN address a  ON c.address_id = a.address_id\n",
    "    JOIN city ci    ON a.city_id = ci.city_id\n",
    "    JOIN country co ON ci.country_id = co.country_id\n",
    "    \"\"\"\n",
    "\n",
    "    df_clientes = run_query(q_customer)\n",
    "    display(df_clientes.head())\n",
    "\n",
    "    return df_clientes\n",
    "\n",
    "\n",
    "df_clientes = fetch_client_data()"
   ]
  },
  {
   "cell_type": "markdown",
   "id": "5a1d4a75",
   "metadata": {},
   "source": [
    "### Exercício 1 – Temperatura Média das Capitais dos Clientes\n",
    "\n",
    "- Recupere as cidades dos clientes com mais de 10 transações.\n",
    "- Use a WeatherAPI para buscar a temperatura atual dessas cidades.\n",
    "- Calcule a temperatura média ponderada por número de clientes.\n",
    "- Insight esperado: quais cidades concentram clientes e temperaturas extremas?\n"
   ]
  },
  {
   "cell_type": "code",
   "execution_count": 10,
   "id": "02c2b15d",
   "metadata": {},
   "outputs": [
    {
     "name": "stdout",
     "output_type": "stream",
     "text": [
      "As 10 cidades com mais de 10 transações:\n",
      "+---+------------------+----------------+\n",
      "|   |     cidades      | num_transacoes |\n",
      "+---+------------------+----------------+\n",
      "| 0 |     Springs      |       58       |\n",
      "| 1 |      Aurora      |       50       |\n",
      "| 2 |      London      |       48       |\n",
      "| 3 |   Saint-Denis    |       46       |\n",
      "| 4 |    Cape Coral    |       45       |\n",
      "| 5 |      Tanza       |       42       |\n",
      "| 6 |    Molodetno     |       42       |\n",
      "| 7 |     Changhwa     |       41       |\n",
      "| 8 |    Changzhou     |       40       |\n",
      "| 9 | Ourense (Orense) |       40       |\n",
      "+---+------------------+----------------+\n"
     ]
    },
    {
     "name": "stderr",
     "output_type": "stream",
     "text": [
      "C:\\Users\\dgeis\\AppData\\Local\\Temp\\ipykernel_9732\\583913406.py:12: UserWarning: pandas only supports SQLAlchemy connectable (engine/connection) or database string URI or sqlite3 DBAPI2 connection. Other DBAPI2 objects are not tested. Please consider using SQLAlchemy.\n",
      "  return pd.read_sql_query(sql, coon)\n"
     ]
    }
   ],
   "source": [
    "# Recupere as cidades dos clientes com mais de 10 transações.\n",
    "# ---------------\n",
    "\n",
    "# Query\n",
    "q_cidades = \"\"\"\n",
    "SELECT \n",
    "    ci.city as cidades, \n",
    "    COUNT(p.payment_id) AS num_transacoes\n",
    "FROM payment p\n",
    "    JOIN customer c ON p.customer_id = c.customer_id\n",
    "    JOIN address a ON c.address_id = a.address_id\n",
    "    JOIN city ci ON a.city_id = ci.city_id\n",
    "GROUP BY ci.city\n",
    "HAVING COUNT(p.payment_id) > 10\n",
    "ORDER BY num_transacoes DESC\n",
    "LIMIT 10;\n",
    "\"\"\"\n",
    "\n",
    "# Executa a query e armazena o resultado em um DataFrame\n",
    "df_cidades = run_query(q_cidades)\n",
    "\n",
    "# Exibe o DataFrame\n",
    "print(\"As 10 cidades com mais de 10 transações:\")\n",
    "print(tabulate(df_cidades, headers=\"keys\", tablefmt=\"pretty\"))"
   ]
  },
  {
   "cell_type": "code",
   "execution_count": null,
   "id": "cc7a5064",
   "metadata": {},
   "outputs": [
    {
     "name": "stdout",
     "output_type": "stream",
     "text": [
      "Temperaturas atuais das cidades com mais de 10 transações:\n",
      "+---+------------------+----------------+-------------+\n",
      "|   |     cidades      | num_transacoes | temperatura |\n",
      "+---+------------------+----------------+-------------+\n",
      "| 0 |     Springs      |       58       |    12.2     |\n",
      "| 1 |      Aurora      |       50       |    14.6     |\n",
      "| 2 |      London      |       48       |    13.1     |\n",
      "| 3 |   Saint-Denis    |       46       |    22.1     |\n",
      "| 4 |    Cape Coral    |       45       |    32.2     |\n",
      "| 5 |      Tanza       |       42       |    27.2     |\n",
      "| 6 |    Molodetno     |       42       |     nan     |\n",
      "| 7 |     Changhwa     |       41       |    21.1     |\n",
      "| 8 |    Changzhou     |       40       |    22.9     |\n",
      "| 9 | Ourense (Orense) |       40       |    11.0     |\n",
      "+---+------------------+----------------+-------------+\n"
     ]
    }
   ],
   "source": [
    "# Use a WeatherAPI para buscar a temperatura atual dessas cidades.\n",
    "# ---------------\n",
    "\n",
    "# Cria um DataFrame com as cidades\n",
    "df_analise = temperatura_cidades(df_cidades)\n",
    "\n",
    "# Exibe o DataFrame com as temperaturas\n",
    "print(\"Temperaturas atuais das cidades com mais de 10 transações:\")\n",
    "print(tabulate(df_analise, headers=\"keys\", tablefmt=\"pretty\"))"
   ]
  },
  {
   "cell_type": "code",
   "execution_count": 12,
   "id": "e99d7a3f",
   "metadata": {},
   "outputs": [
    {
     "name": "stderr",
     "output_type": "stream",
     "text": [
      "C:\\Users\\dgeis\\AppData\\Local\\Temp\\ipykernel_9732\\583913406.py:12: UserWarning: pandas only supports SQLAlchemy connectable (engine/connection) or database string URI or sqlite3 DBAPI2 connection. Other DBAPI2 objects are not tested. Please consider using SQLAlchemy.\n",
      "  return pd.read_sql_query(sql, coon)\n"
     ]
    },
    {
     "name": "stdout",
     "output_type": "stream",
     "text": [
      "Temperatura média ponderada por número de clientes: 16.64°C\n"
     ]
    }
   ],
   "source": [
    "# Calcule a temperatura média ponderada por número de clientes.\n",
    "# ---------------\n",
    "\n",
    "# Query\n",
    "q_cidades = \"\"\"\n",
    "WITH top_cidades AS (\n",
    "    SELECT \n",
    "        ci.city as cidades\n",
    "    FROM payment p\n",
    "        JOIN customer c ON p.customer_id = c.customer_id\n",
    "        JOIN address a ON c.address_id = a.address_id\n",
    "        JOIN city ci ON a.city_id = ci.city_id\n",
    "    GROUP BY ci.city\n",
    "    HAVING COUNT(p.payment_id) > 10\n",
    "    ORDER BY COUNT(p.payment_id) DESC\n",
    "    LIMIT 10\n",
    ")\n",
    "SELECT \n",
    "    ci.city as cidades, \n",
    "    COUNT(DISTINCT c.customer_id) AS num_clientes\n",
    "FROM customer c\n",
    "    JOIN address a ON c.address_id = a.address_id\n",
    "    JOIN city ci ON a.city_id = ci.city_id\n",
    "WHERE ci.city IN (SELECT cidades FROM top_cidades)\n",
    "GROUP BY ci.city\n",
    "\"\"\"\n",
    "\n",
    "# Executa a query e armazena o resultado em um DataFrame\n",
    "df_cidades = run_query(q_cidades)\n",
    "\n",
    "# Atualiza df_analise com as temperaturas dessas cidades\n",
    "df_analise = temperatura_cidades(df_cidades)\n",
    "\n",
    "# Converter temperatura para float, se necessário\n",
    "df_analise[\"temperatura\"] = pd.to_numeric(df_analise[\"temperatura\"], errors=\"coerce\")\n",
    "\n",
    "\n",
    "# Para calcular a temperatura média ponderada por número de clientes,\n",
    "# basta multiplicar a temperatura de cada cidade pelo número de clientes,\n",
    "# somar tudo e dividir pelo total de clientes.\n",
    "media_ponderada = (\n",
    "    df_analise[\"temperatura\"] * df_analise[\"num_clientes\"]\n",
    ").sum() / df_analise[\"num_clientes\"].sum()\n",
    "\n",
    "# Exibir o resultado ponderado\n",
    "print(f\"Temperatura média ponderada por número de clientes: {media_ponderada:.2f}°C\")"
   ]
  },
  {
   "cell_type": "code",
   "execution_count": 13,
   "id": "62f2e694",
   "metadata": {},
   "outputs": [
    {
     "name": "stderr",
     "output_type": "stream",
     "text": [
      "C:\\Users\\dgeis\\AppData\\Local\\Temp\\ipykernel_9732\\583913406.py:12: UserWarning: pandas only supports SQLAlchemy connectable (engine/connection) or database string URI or sqlite3 DBAPI2 connection. Other DBAPI2 objects are not tested. Please consider using SQLAlchemy.\n",
      "  return pd.read_sql_query(sql, coon)\n"
     ]
    },
    {
     "name": "stdout",
     "output_type": "stream",
     "text": [
      "Temperatura média ponderada por número de clientes: 16.64°C\n"
     ]
    }
   ],
   "source": [
    "# OPCIONAL:\n",
    "\n",
    "# 1. Pegue as 10 cidades com mais transações\n",
    "q_cidades = \"\"\"\n",
    "SELECT \n",
    "    ci.city as cidades, \n",
    "    COUNT(p.payment_id) AS num_transacoes\n",
    "FROM payment p\n",
    "    JOIN customer c ON p.customer_id = c.customer_id\n",
    "    JOIN address a ON c.address_id = a.address_id\n",
    "    JOIN city ci ON a.city_id = ci.city_id\n",
    "GROUP BY ci.city\n",
    "HAVING COUNT(p.payment_id) > 10\n",
    "ORDER BY num_transacoes DESC\n",
    "LIMIT 10;\n",
    "\"\"\"\n",
    "df_cidades = run_query(q_cidades)\n",
    "\n",
    "# 2. Para essas cidades, busque o número de clientes distintos\n",
    "cidades_sql = \", \".join(f\"'{cidade}'\" for cidade in df_cidades[\"cidades\"])\n",
    "q_clientes = f\"\"\"\n",
    "SELECT \n",
    "    ci.city as cidades, \n",
    "    COUNT(DISTINCT c.customer_id) AS num_clientes\n",
    "FROM customer c\n",
    "    JOIN address a ON c.address_id = a.address_id\n",
    "    JOIN city ci ON a.city_id = ci.city_id\n",
    "WHERE ci.city IN ({cidades_sql})\n",
    "GROUP BY ci.city\n",
    "\"\"\"\n",
    "df_clientes = run_query(q_clientes)\n",
    "\n",
    "# 3. Junte os dados\n",
    "df_analise = df_cidades.merge(df_clientes, on=\"cidades\")\n",
    "\n",
    "# 4. Busque as temperaturas\n",
    "df_analise = temperatura_cidades(df_analise)\n",
    "df_analise[\"temperatura\"] = pd.to_numeric(df_analise[\"temperatura\"], errors=\"coerce\")\n",
    "\n",
    "# 5. Calcule a média ponderada por clientes\n",
    "media_ponderada = (\n",
    "    df_analise[\"temperatura\"] * df_analise[\"num_clientes\"]\n",
    ").sum() / df_analise[\"num_clientes\"].sum()\n",
    "\n",
    "print(f\"Temperatura média ponderada por número de clientes: {media_ponderada:.2f}°C\")"
   ]
  },
  {
   "cell_type": "markdown",
   "id": "742847a5",
   "metadata": {},
   "source": [
    "#### 🌡️ Temperatura Média Ponderada\n",
    "\n",
    "A **temperatura média ponderada** por número de clientes (ou transações) é calculada pela fórmula:\n",
    "\n",
    "**T_ponderada = (T₁ × P₁ + T₂ × P₂ + ... + Tₙ × Pₙ) / (P₁ + P₂ + ... + Pₙ)**\n",
    "\n",
    "Onde:\n",
    "\n",
    "- **Tᵢ**: Temperatura da cidade _i_\n",
    "- **Pᵢ**: Peso da cidade _i_ (número de clientes ou transações)\n",
    "- **n**: Número total de cidades\n"
   ]
  },
  {
   "cell_type": "code",
   "execution_count": 14,
   "id": "4fcd7ef7",
   "metadata": {},
   "outputs": [
    {
     "name": "stderr",
     "output_type": "stream",
     "text": [
      "C:\\Users\\dgeis\\AppData\\Local\\Temp\\ipykernel_9732\\583913406.py:12: UserWarning: pandas only supports SQLAlchemy connectable (engine/connection) or database string URI or sqlite3 DBAPI2 connection. Other DBAPI2 objects are not tested. Please consider using SQLAlchemy.\n",
      "  return pd.read_sql_query(sql, coon)\n"
     ]
    },
    {
     "name": "stdout",
     "output_type": "stream",
     "text": [
      "Top 10 cidades mais quentes com mais clientes:\n",
      "+---+------------------+--------------+-------------+\n",
      "|   |     cidades      | num_clientes | temperatura |\n",
      "+---+------------------+--------------+-------------+\n",
      "| 0 |      Aurora      |      2       |    14.6     |\n",
      "| 4 |      London      |      2       |    13.1     |\n",
      "| 8 |     Springs      |      2       |    12.2     |\n",
      "| 1 |    Cape Coral    |      1       |    32.2     |\n",
      "| 9 |      Tanza       |      1       |    27.2     |\n",
      "| 3 |    Changzhou     |      1       |    22.9     |\n",
      "| 7 |   Saint-Denis    |      1       |    22.1     |\n",
      "| 2 |     Changhwa     |      1       |    21.1     |\n",
      "| 6 | Ourense (Orense) |      1       |    11.0     |\n",
      "| 5 |    Molodetno     |      1       |     nan     |\n",
      "+---+------------------+--------------+-------------+\n"
     ]
    }
   ],
   "source": [
    "# Insight esperado: quais cidades concentram clientes e temperaturas extremas?\n",
    "\n",
    "# **Explicação da Query:**\n",
    "\n",
    "# A consulta SQL abaixo tem como objetivo identificar as cidades que concentram o maior número de clientes e transações na base de dados Pagila. Para isso, ela parte da tabela de pagamentos (`payment`), que representa cada transação realizada, e faz uma série de junções para chegar até a cidade de cada cliente. O agrupamento é feito por: cidade, permitindo contar tanto o número total de transações (`num_transacoes`) quanto o número de clientes distintos (`num_clientes`) em cada localidade. Por fim, a query ordena as cidades pelo volume de transações (da maior para a menor) e limita o resultado às 10 cidades mais movimentadas.\n",
    "\n",
    "# Essa abordagem garante que apenas cidades com movimentação real (ou seja, com pelo menos uma transação registrada) sejam consideradas na análise. Assim, é possível cruzar esses dados com informações de clima e identificar, por exemplo, quais cidades com temperaturas extremas concentram mais clientes e vendas.\n",
    "\n",
    "\n",
    "# Ordena pelas cidades com mais transações/clientes e temperatura mais alta (limite de 10)\n",
    "q_cidades = \"\"\"\n",
    "WITH top_cidades AS (\n",
    "    SELECT \n",
    "        ci.city as cidades\n",
    "    FROM payment p\n",
    "        JOIN customer c ON p.customer_id = c.customer_id\n",
    "        JOIN address a ON c.address_id = a.address_id\n",
    "        JOIN city ci ON a.city_id = ci.city_id\n",
    "    GROUP BY ci.city\n",
    "    HAVING COUNT(p.payment_id) > 10\n",
    "    ORDER BY COUNT(p.payment_id) DESC\n",
    "    LIMIT 10\n",
    ")\n",
    "SELECT \n",
    "    ci.city as cidades, \n",
    "    COUNT(DISTINCT c.customer_id) AS num_clientes\n",
    "FROM customer c\n",
    "    JOIN address a ON c.address_id = a.address_id\n",
    "    JOIN city ci ON a.city_id = ci.city_id\n",
    "WHERE ci.city IN (SELECT cidades FROM top_cidades)\n",
    "GROUP BY ci.city\n",
    "\"\"\"\n",
    "\n",
    "df_cidades = run_query(q_cidades)\n",
    "df_analise = temperatura_cidades(df_cidades)\n",
    "\n",
    "\n",
    "# Converter temperatura para float\n",
    "df_analise[\"temperatura\"] = pd.to_numeric(df_analise[\"temperatura\"], errors=\"coerce\")\n",
    "# Top 10 cidades mais quentes com mais clientes:\n",
    "top_quentes = df_analise.sort_values(\n",
    "    by=[\"num_clientes\", \"temperatura\"], ascending=[False, False]\n",
    ")\n",
    "print(\"Top 10 cidades mais quentes com mais clientes:\")\n",
    "print(\n",
    "    tabulate(\n",
    "        top_quentes[[\"cidades\", \"num_clientes\", \"temperatura\"]],\n",
    "        headers=\"keys\",\n",
    "        tablefmt=\"pretty\",\n",
    "    )\n",
    ")"
   ]
  },
  {
   "cell_type": "markdown",
   "id": "5a882c7f",
   "metadata": {},
   "source": [
    "### Exercício 2 – Receita Bruta em Cidades com Clima Ameno\n",
    "\n",
    "- Calcule a receita bruta por cidade.\n",
    "- Use a WeatherAPI para consultar a temperatura atual.\n",
    "- Filtre apenas cidades com temperatura entre **18°C e 24°C**.\n",
    "- Resultado: qual o faturamento total vindo dessas cidades?\n"
   ]
  },
  {
   "cell_type": "code",
   "execution_count": 15,
   "id": "d7f9f879",
   "metadata": {},
   "outputs": [
    {
     "name": "stdout",
     "output_type": "stream",
     "text": [
      "Faturamento total das cidades em ordem de faturamento:\n",
      "+---+---------------------+-------------------+\n",
      "|   |       cidades       | total_faturamento |\n",
      "+---+---------------------+-------------------+\n",
      "| 0 |       Springs       |      243.42       |\n",
      "| 1 |     Cape Coral      |      221.55       |\n",
      "| 2 |     Saint-Denis     |      216.54       |\n",
      "| 3 |       Aurora        |       198.5       |\n",
      "| 4 |      Molodetno      |      195.58       |\n",
      "| 5 |      Apeldoorn      |      194.61       |\n",
      "| 6 | Santa Brbara dOeste |      194.61       |\n",
      "| 7 |       Qomsheh       |      186.62       |\n",
      "| 8 |       London        |      180.52       |\n",
      "| 9 |  Ourense (Orense)   |       177.6       |\n",
      "+---+---------------------+-------------------+\n"
     ]
    },
    {
     "name": "stderr",
     "output_type": "stream",
     "text": [
      "C:\\Users\\dgeis\\AppData\\Local\\Temp\\ipykernel_9732\\583913406.py:12: UserWarning: pandas only supports SQLAlchemy connectable (engine/connection) or database string URI or sqlite3 DBAPI2 connection. Other DBAPI2 objects are not tested. Please consider using SQLAlchemy.\n",
      "  return pd.read_sql_query(sql, coon)\n"
     ]
    }
   ],
   "source": [
    "# – Calcule a receita bruta por cidade.\n",
    "# ---------------\n",
    "\n",
    "\n",
    "# Query\n",
    "q_faturamento = f\"\"\"\n",
    "select\n",
    "    CI.city as cidades,\n",
    "    SUM(P.amount) as total_faturamento\n",
    "FROM payment P\n",
    "    JOIN customer C ON P.customer_id = C.customer_id\n",
    "    JOIN address A ON C.address_id = A.address_id\n",
    "    JOIN city CI ON A.city_id = CI.city_id\n",
    "GROUP BY CI.city\n",
    "ORDER BY total_faturamento DESC\n",
    "LIMIT 10;\n",
    "\"\"\"\n",
    "\n",
    "# Executa a query e armazena o resultado em um DataFrame\n",
    "df_faturamento = run_query(q_faturamento)\n",
    "\n",
    "# Exibe o DataFrame\n",
    "print(\"Faturamento total das cidades em ordem de faturamento:\")\n",
    "print(tabulate(df_faturamento, headers=\"keys\", tablefmt=\"pretty\"))"
   ]
  },
  {
   "cell_type": "code",
   "execution_count": 16,
   "id": "7001ef92",
   "metadata": {},
   "outputs": [
    {
     "name": "stdout",
     "output_type": "stream",
     "text": [
      "Temperaturas atuais das cidades com faturamento:\n",
      "+---+---------------------+-------------------+-------------+\n",
      "|   |       cidades       | total_faturamento | temperatura |\n",
      "+---+---------------------+-------------------+-------------+\n",
      "| 0 |       Springs       |      243.42       |    12.2     |\n",
      "| 1 |     Cape Coral      |      221.55       |    32.2     |\n",
      "| 2 |     Saint-Denis     |      216.54       |    22.1     |\n",
      "| 3 |       Aurora        |       198.5       |    14.6     |\n",
      "| 4 |      Molodetno      |      195.58       |     nan     |\n",
      "| 5 |      Apeldoorn      |      194.61       |    18.3     |\n",
      "| 6 | Santa Brbara dOeste |      194.61       |    37.1     |\n",
      "| 7 |       Qomsheh       |      186.62       |    25.3     |\n",
      "| 8 |       London        |      180.52       |    13.1     |\n",
      "| 9 |  Ourense (Orense)   |       177.6       |    11.0     |\n",
      "+---+---------------------+-------------------+-------------+\n"
     ]
    }
   ],
   "source": [
    "# \tUse a WeatherAPI para consultar a temperatura atual.\n",
    "# ---------------\n",
    "\n",
    "df_analise = temperatura_cidades(df_faturamento)\n",
    "\n",
    "print(\"Temperaturas atuais das cidades com faturamento:\")\n",
    "print(tabulate(df_analise, headers=\"keys\", tablefmt=\"pretty\"))"
   ]
  },
  {
   "cell_type": "code",
   "execution_count": null,
   "id": "abfba11c",
   "metadata": {},
   "outputs": [
    {
     "name": "stdout",
     "output_type": "stream",
     "text": [
      "Imprime as cidades com temperatura entre 18 e 24 graus Celsius:\n",
      "+---+-------------+-------------------+-------------+\n",
      "|   |   cidades   | total_faturamento | temperatura |\n",
      "+---+-------------+-------------------+-------------+\n",
      "| 2 | Saint-Denis |      216.54       |    22.1     |\n",
      "| 5 |  Apeldoorn  |      194.61       |    18.3     |\n",
      "+---+-------------+-------------------+-------------+\n"
     ]
    }
   ],
   "source": [
    "# \tFiltre apenas cidades com temperatura entre 18°C e 24°C.\n",
    "# \tResultado: qual o faturamento total vindo dessas cidades?\n",
    "# ---------------\n",
    "\n",
    "# Converter para float antes de filtrar\n",
    "df_analise[\"temperatura\"] = pd.to_numeric(df_analise[\"temperatura\"], errors=\"coerce\")\n",
    "\n",
    "# Filtrar corretamente\n",
    "df_filtrado = df_analise.loc[\n",
    "    (df_analise[\"temperatura\"] >= 18) & (df_analise[\"temperatura\"] <= 24)\n",
    "]\n",
    "\n",
    "# Imprimir as cidades com temperatura entre 18 e 24 graus Celsius\n",
    "# e o faturamento total vindo dessas cidades\n",
    "print(\"Imprime as cidades com temperatura entre 18 e 24 graus Celsius:\")\n",
    "print(tabulate(df_filtrado, headers=\"keys\", tablefmt=\"pretty\"))"
   ]
  },
  {
   "cell_type": "markdown",
   "id": "288d41d0",
   "metadata": {},
   "source": [
    "### Exercício 3 – Aluguel de Filmes por Região e População\n",
    "\n",
    "- Identifique os países dos clientes com maior número de aluguéis.\n",
    "- Use a REST Countries API para obter a população desses países.\n",
    "- Calcule o número de aluguéis por 1.000 habitantes.\n",
    "- Análise: quais países são mais “cinéfilos” proporcionalmente?\n"
   ]
  },
  {
   "cell_type": "code",
   "execution_count": 18,
   "id": "93452d4b",
   "metadata": {},
   "outputs": [
    {
     "name": "stdout",
     "output_type": "stream",
     "text": [
      "Top 10 países com maior número de aluguéis:\n",
      "+---+--------------------+--------------+\n",
      "|   |        pais        | num_alugueis |\n",
      "+---+--------------------+--------------+\n",
      "| 0 |       India        |     1572     |\n",
      "| 1 |       China        |     1426     |\n",
      "| 2 |   United States    |     968      |\n",
      "| 3 |       Japan        |     825      |\n",
      "| 4 |       Mexico       |     763      |\n",
      "| 5 |       Brazil       |     748      |\n",
      "| 6 | Russian Federation |     713      |\n",
      "| 7 |    Philippines     |     568      |\n",
      "| 8 |       Turkey       |     388      |\n",
      "| 9 |     Indonesia      |     367      |\n",
      "+---+--------------------+--------------+\n"
     ]
    },
    {
     "name": "stderr",
     "output_type": "stream",
     "text": [
      "C:\\Users\\dgeis\\AppData\\Local\\Temp\\ipykernel_9732\\583913406.py:12: UserWarning: pandas only supports SQLAlchemy connectable (engine/connection) or database string URI or sqlite3 DBAPI2 connection. Other DBAPI2 objects are not tested. Please consider using SQLAlchemy.\n",
      "  return pd.read_sql_query(sql, coon)\n"
     ]
    }
   ],
   "source": [
    "# Identifique os países dos clientes com maior número de aluguéis.\n",
    "# ---------------\n",
    "\n",
    "\n",
    "# Explicação da Query:\n",
    "# A consulta SQL abaixo tem como objetivo identificar os países que concentram o maior número de aluguéis na base de dados Pagila. Para isso, ela parte da tabela de aluguéis (`rental`) e faz uma série de junções para chegar até o país de cada cliente. O agrupamento é feito por: país, permitindo contar o número total de aluguéis (`num_alugueis`) em cada localidade. Por fim, a query ordena os países pelo volume de aluguéis (da maior para a menor) e limita o resultado aos 10 países mais movimentados.\n",
    "\n",
    "# Essa abordagem garante que apenas países com movimentação real (ou seja, com pelo menos um aluguel registrado) sejam considerados na análise. Assim, é possível cruzar esses dados com informações de clima e identificar, por exemplo, quais países com temperaturas extremas concentram mais aluguéis e vendas.\n",
    "\n",
    "# No banco Pagila (baseada no Sakila), os dados estão normalizados (espalhados em várias tabelas):\n",
    "\n",
    "# rental: cada aluguel (tem rental_id, customer_id, etc)\n",
    "# customer: quem alugou (tem customer_id, address_id)\n",
    "# address: endereço do cliente (tem address_id, city_id)\n",
    "# city: cidade do endereço (tem city_id, country_id)\n",
    "# country: país da cidade (tem country_id)\n",
    "\n",
    "# Query\n",
    "q_alugueis = \"\"\"\n",
    "SELECT \n",
    "    co.country as pais,                                   -- Seleciona o nome do país\n",
    "    COUNT(DISTINCT p.rental_id) AS num_alugueis           -- Conta o número de aluguéis únicos por país\n",
    "FROM rental p\n",
    "    JOIN inventory i ON p.inventory_id = i.inventory_id   -- (opcional aqui, mas conecta aluguel ao filme)\n",
    "    JOIN film f ON i.film_id = f.film_id                  -- (opcional aqui, conecta ao filme)\n",
    "    JOIN customer c ON p.customer_id = c.customer_id      -- Liga aluguel ao cliente\n",
    "    JOIN address a ON c.address_id = a.address_id         -- Liga cliente ao endereço\n",
    "    JOIN city ci ON a.city_id = ci.city_id                -- Liga endereço à cidade\n",
    "    JOIN country co ON ci.country_id = co.country_id      -- Liga cidade ao país\n",
    "GROUP BY co.country                                       -- Agrupa o resultado por país\n",
    "ORDER BY num_alugueis DESC                                -- Ordena do país com mais aluguéis para o menor\n",
    "LIMIT 10;  \n",
    "\"\"\"\n",
    "\n",
    "# Executa a query e armazena o resultado em um DataFrame\n",
    "df_alugueis = run_query(q_alugueis)\n",
    "\n",
    "# Exibe o DataFrame\n",
    "print(\"Top 10 países com maior número de aluguéis:\")\n",
    "print(tabulate(df_alugueis, headers=\"keys\", tablefmt=\"pretty\"))"
   ]
  },
  {
   "cell_type": "code",
   "execution_count": null,
   "id": "195c8717",
   "metadata": {},
   "outputs": [
    {
     "name": "stdout",
     "output_type": "stream",
     "text": [
      "População dos países com maior número de aluguéis:\n",
      "+---+--------------------+--------------+------------+\n",
      "|   |        pais        | num_alugueis | população  |\n",
      "+---+--------------------+--------------+------------+\n",
      "| 0 |       India        |     1572     | 1380004385 |\n",
      "| 1 |       China        |     1426     |   649342   |\n",
      "| 2 |   United States    |     968      |    300     |\n",
      "| 3 |       Japan        |     825      | 125836021  |\n",
      "| 4 |       Mexico       |     763      | 128932753  |\n",
      "| 5 |       Brazil       |     748      | 212559409  |\n",
      "| 6 | Russian Federation |     713      | 144104080  |\n",
      "| 7 |    Philippines     |     568      | 109581085  |\n",
      "| 8 |       Turkey       |     388      |  84339067  |\n",
      "| 9 |     Indonesia      |     367      | 273523621  |\n",
      "+---+--------------------+--------------+------------+\n"
     ]
    }
   ],
   "source": [
    "# Use a REST Countries API para obter a população desses países.\n",
    "# ---------------\n",
    "\n",
    "# URL da API\n",
    "url = \"https://restcountries.com/v3.1/name/{}\"\n",
    "\n",
    "\n",
    "def obter_populacao_pais(pais):\n",
    "    \"\"\"\n",
    "    Consulta a população de um país usando a REST Countries API.\n",
    "\n",
    "    Args:\n",
    "        pais (str): Nome do país a ser consultado.\n",
    "\n",
    "    Returns:\n",
    "        int or None: População do país, ou None se não encontrado ou erro.\n",
    "    \"\"\"\n",
    "\n",
    "    try:\n",
    "        # Monta a URL da API com o nome do país e faz a requisição HTTP\n",
    "        resposta = requests.get(url.format(pais), timeout=10)\n",
    "        # Converte a resposta JSON em um dicionário/lista Python\n",
    "        dados = resposta.json()\n",
    "        # Verifica se a resposta é uma lista válida e não está vazia\n",
    "        if isinstance(dados, list) and len(dados) > 0:\n",
    "            # Retorna o campo 'population' do primeiro país encontrado\n",
    "            return dados[0][\"population\"]\n",
    "        else:\n",
    "            # Caso não encontre, imprime mensagem de erro e retorna None\n",
    "            print(f\"População não encontrada para: {pais} | Resposta: {dados}\")\n",
    "            return None\n",
    "    except Exception as e:\n",
    "        # Em caso de erro na requisição ou parsing, imprime o erro e retorna None\n",
    "        print(f\"Error fetching population data: {e}\")\n",
    "        return None\n",
    "\n",
    "\n",
    "# Cria um DataFrame com os países\n",
    "df_alugueis[\"população\"] = df_alugueis[\"pais\"].apply(obter_populacao_pais)\n",
    "\n",
    "print(\"População dos países com maior número de aluguéis:\")\n",
    "print(tabulate(df_alugueis, headers=\"keys\", tablefmt=\"pretty\"))"
   ]
  },
  {
   "cell_type": "code",
   "execution_count": null,
   "id": "17faab41",
   "metadata": {},
   "outputs": [
    {
     "name": "stdout",
     "output_type": "stream",
     "text": [
      "+---+--------------------+--------------+------------+-------------------+\n",
      "|   |        pais        | num_alugueis | população  | alugueis_por_1000 |\n",
      "+---+--------------------+--------------+------------+-------------------+\n",
      "| 0 |       India        |     1572     | 1380004385 |      0.0011       |\n",
      "| 1 |       China        |     1426     |   649342   |      2.1961       |\n",
      "| 2 |   United States    |     968      |    300     |     3226.6667     |\n",
      "| 3 |       Japan        |     825      | 125836021  |      0.0066       |\n",
      "| 4 |       Mexico       |     763      | 128932753  |      0.0059       |\n",
      "| 5 |       Brazil       |     748      | 212559409  |      0.0035       |\n",
      "| 6 | Russian Federation |     713      | 144104080  |      0.0049       |\n",
      "| 7 |    Philippines     |     568      | 109581085  |      0.0052       |\n",
      "| 8 |       Turkey       |     388      |  84339067  |      0.0046       |\n",
      "| 9 |     Indonesia      |     367      | 273523621  |      0.0013       |\n",
      "+---+--------------------+--------------+------------+-------------------+\n"
     ]
    }
   ],
   "source": [
    "# Calcule o número de aluguéis por 1.000 habitantes.\n",
    "# ---------------\n",
    "\n",
    "df_alugueis[\"alugueis_por_1000\"] = (\n",
    "    (df_alugueis[\"num_alugueis\"] / df_alugueis[\"população\"]) * 1000\n",
    ").round(4)\n",
    "\n",
    "# Exibe o DataFrame com a nova coluna\n",
    "print(tabulate(df_alugueis, headers=\"keys\", tablefmt=\"pretty\"))"
   ]
  },
  {
   "cell_type": "code",
   "execution_count": null,
   "id": "b0ded13b",
   "metadata": {},
   "outputs": [
    {
     "name": "stdout",
     "output_type": "stream",
     "text": [
      "Ranking dos países mais 'cinéfilos' proporcionalmente (alugueis por 1.000 habitantes):\n",
      "+---+--------------------+--------------+------------+-------------------+\n",
      "|   |        pais        | num_alugueis | população  | alugueis_por_1000 |\n",
      "+---+--------------------+--------------+------------+-------------------+\n",
      "| 2 |   United States    |     968      |    300     |     3226.6667     |\n",
      "| 1 |       China        |     1426     |   649342   |      2.1961       |\n",
      "| 3 |       Japan        |     825      | 125836021  |      0.0066       |\n",
      "| 4 |       Mexico       |     763      | 128932753  |      0.0059       |\n",
      "| 7 |    Philippines     |     568      | 109581085  |      0.0052       |\n",
      "| 6 | Russian Federation |     713      | 144104080  |      0.0049       |\n",
      "| 8 |       Turkey       |     388      |  84339067  |      0.0046       |\n",
      "| 5 |       Brazil       |     748      | 212559409  |      0.0035       |\n",
      "| 9 |     Indonesia      |     367      | 273523621  |      0.0013       |\n",
      "| 0 |       India        |     1572     | 1380004385 |      0.0011       |\n",
      "+---+--------------------+--------------+------------+-------------------+\n"
     ]
    }
   ],
   "source": [
    "# Análise: quais países são mais “cinéfilos” proporcionalmente?\n",
    "# ---------------\n",
    "\n",
    "# Ordena os países pelo número de aluguéis por 1.000 habitantes (do maior para o menor)\n",
    "df_cinefilos = df_alugueis.sort_values(by=\"alugueis_por_1000\", ascending=False)\n",
    "\n",
    "print(\n",
    "    \"Ranking dos países mais 'cinéfilos' proporcionalmente (alugueis por 1.000 habitantes):\"\n",
    ")\n",
    "print(\n",
    "    tabulate(\n",
    "        df_cinefilos[[\"pais\", \"num_alugueis\", \"população\", \"alugueis_por_1000\"]],\n",
    "        headers=\"keys\",\n",
    "        tablefmt=\"pretty\",\n",
    "    )\n",
    ")"
   ]
  },
  {
   "cell_type": "code",
   "execution_count": null,
   "id": "156b0a04",
   "metadata": {},
   "outputs": [],
   "source": [
    "#   Exercício 4 – Filmes Mais Populares em Cidades Poluídas\n",
    "# \tListe as 10 cidades com maior número de clientes.\n",
    "# \tUse a AirVisual API para consultar o AQI dessas cidades.\n",
    "# \tRelacione os filmes mais alugados em cidades com AQI > 150.\n",
    "# \tDiscussão: poluição impacta preferências de filmes?"
   ]
  },
  {
   "cell_type": "code",
   "execution_count": null,
   "id": "46b9b9a2",
   "metadata": {},
   "outputs": [],
   "source": [
    "#   Exercício 5 – Clientes em Áreas Críticas\n",
    "# \tRecupere os clientes com endereço em cidades com AQI acima de 130.\n",
    "# \tCombine nome do cliente, cidade, país, temperatura e AQI.\n",
    "# \tClassifique os clientes em “zona de atenção” com base nos critérios ambientais."
   ]
  },
  {
   "cell_type": "code",
   "execution_count": null,
   "id": "44c3311d",
   "metadata": {},
   "outputs": [],
   "source": [
    "#   Exercício 6 – Receita por Continente\n",
    "# \tUse a REST Countries API para mapear o continente de cada país.\n",
    "# \tAgrupe a receita total por continente.\n",
    "# \tExiba os resultados em um gráfico de pizza com matplotlib."
   ]
  },
  {
   "cell_type": "code",
   "execution_count": null,
   "id": "4b0ae2b5",
   "metadata": {},
   "outputs": [],
   "source": [
    "#   Exercício 7 – Tempo Médio de Aluguel vs Clima\n",
    "# \tCalcule o tempo médio de aluguel por cidade (entre rental_date e return_date).\n",
    "# \tCombine com a temperatura atual dessas cidades.\n",
    "# \tVisualize a correlação entre temperatura e tempo médio de aluguel (scatterplot + linha de tendência)."
   ]
  },
  {
   "cell_type": "code",
   "execution_count": null,
   "id": "aefb19c7",
   "metadata": {},
   "outputs": [],
   "source": [
    "#   Exercício 8 – Perfil de Clima por Cliente\n",
    "# \tPara cada cliente, crie um perfil com:\n",
    "# \tcidade, temperatura, AQI, total de aluguéis, gasto total.\n",
    "# \tAgrupe os perfis por faixa etária (simulada ou fictícia) e avalie padrões.\n",
    "# \tObjetivo: conectar comportamento de consumo e ambiente."
   ]
  },
  {
   "cell_type": "code",
   "execution_count": null,
   "id": "b43f39cd",
   "metadata": {},
   "outputs": [],
   "source": [
    "#   Exercício 9 – Exportação Inteligente\n",
    "# \tGere um relatório Excel com os seguintes critérios:\n",
    "# \tClientes de países com temperatura < 15°C\n",
    "# \tAQI acima de 100\n",
    "# \tReceita individual > média geral\n",
    "# \tUtilize OpenPyXL e organize em múltiplas abas: Clientes, Temperaturas, Alertas."
   ]
  },
  {
   "cell_type": "code",
   "execution_count": null,
   "id": "0bacf84b",
   "metadata": {},
   "outputs": [],
   "source": [
    "#   Exercício 10 – API Cache Inteligente (Desafio)\n",
    "# \tImplemente uma lógica que salve os dados de clima e AQI localmente em CSV.\n",
    "# \tAo consultar novamente a mesma cidade, busque do CSV ao invés da API.\n",
    "# \tEvite chamadas redundantes — bom para práticas de performance e economia de requisições."
   ]
  }
 ],
 "metadata": {
  "kernelspec": {
   "display_name": ".pyenv",
   "language": "python",
   "name": "python3"
  },
  "language_info": {
   "codemirror_mode": {
    "name": "ipython",
    "version": 3
   },
   "file_extension": ".py",
   "mimetype": "text/x-python",
   "name": "python",
   "nbconvert_exporter": "python",
   "pygments_lexer": "ipython3",
   "version": "3.13.2"
  }
 },
 "nbformat": 4,
 "nbformat_minor": 5
}
