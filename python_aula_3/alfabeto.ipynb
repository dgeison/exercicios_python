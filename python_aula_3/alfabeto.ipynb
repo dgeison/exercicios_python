{
 "cells": [
  {
   "cell_type": "code",
   "execution_count": 1,
   "id": "ab32144e",
   "metadata": {},
   "outputs": [
    {
     "name": "stdout",
     "output_type": "stream",
     "text": [
      "Saída: A, B, C, D, E, F, G\n"
     ]
    }
   ],
   "source": [
    "def gerar_alfabeto():\n",
    "    # Importar o módulo string para acessar o alfabeto\n",
    "    import string\n",
    "\n",
    "    # Obter o alfabeto em letras maiúsculas\n",
    "    alfabeto = string.ascii_uppercase\n",
    "\n",
    "    # Solicitar o input do usuário\n",
    "    while True:\n",
    "        try:\n",
    "            numero = int(input(\"Digite um número entre 1 e 26: \"))\n",
    "            if 1 <= numero <= 26:\n",
    "                # Gerar a saída com as letras do alfabeto\n",
    "                print(\"Saída:\", \", \".join(alfabeto[:numero]))\n",
    "                break\n",
    "            else:\n",
    "                print(\"Por favor, digite um número entre 1 e 26.\")\n",
    "        except ValueError:\n",
    "            print(\"Entrada inválida. Digite um número inteiro.\")\n",
    "\n",
    "# Chamar a função\n",
    "gerar_alfabeto()"
   ]
  }
 ],
 "metadata": {
  "kernelspec": {
   "display_name": ".pyenv",
   "language": "python",
   "name": "python3"
  },
  "language_info": {
   "codemirror_mode": {
    "name": "ipython",
    "version": 3
   },
   "file_extension": ".py",
   "mimetype": "text/x-python",
   "name": "python",
   "nbconvert_exporter": "python",
   "pygments_lexer": "ipython3",
   "version": "3.13.2"
  }
 },
 "nbformat": 4,
 "nbformat_minor": 5
}
