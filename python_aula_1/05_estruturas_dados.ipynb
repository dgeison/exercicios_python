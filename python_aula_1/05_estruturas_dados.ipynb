{
 "cells": [
  {
   "cell_type": "code",
   "execution_count": null,
   "id": "25629daa",
   "metadata": {},
   "outputs": [
    {
     "name": "stdout",
     "output_type": "stream",
     "text": [
      "['maçã', 'banana', 'laranja', 'uva']\n",
      "Primeira fruta: maçã\n",
      "Última fruta: uva\n",
      "Quantidade de frutas: 4\n",
      "Frutas: maçã, banana, laranja, uva\n",
      "Frutas.sort(): ['banana', 'laranja', 'maçã', 'uva']\n"
     ]
    }
   ],
   "source": [
    "# Lista\n",
    "# Uma lista é uma coleção ordenada e mutável de elementos.\n",
    "# Pode armazenar diferentes tipos de dados e permite acesso por índice.\n",
    "frutas = [\"maçã\", \"banana\", \"laranja\"]\n",
    "frutas.append(\"uva\")\n",
    "\n",
    "print(frutas)\n",
    "print(f\"Primeira fruta: {frutas[0]}\")\n",
    "print(f\"Última fruta: {frutas[-1]}\")\n",
    "print(f\"Quantidade de frutas: {len(frutas)}\")\n",
    "print(f\"Frutas: {', '.join(frutas)}\")\n",
    "print(f\"Frutas.sort(): {sorted(frutas)}\")"
   ]
  },
  {
   "cell_type": "code",
   "execution_count": 12,
   "id": "91f2757b",
   "metadata": {},
   "outputs": [
    {
     "name": "stdout",
     "output_type": "stream",
     "text": [
      "João\n",
      "22\n",
      "23\n",
      "{'nome': 'João', 'idade': 23, 'curso': 'Engenharia'}\n",
      "{'nome': 'João', 'idade': 23}\n",
      "dict_values(['João', 23])\n",
      "['João', 23]\n"
     ]
    }
   ],
   "source": [
    "# Dicionário\n",
    "# Um dicionário é uma coleção não ordenada de pares chave-valor.\n",
    "# Permite acessar, adicionar e modificar valores associados a uma chave específica.\n",
    "aluno = {\"nome\": \"João\", \"idade\": 22}\n",
    "print(aluno[\"nome\"])\n",
    "print(aluno[\"idade\"])\n",
    "aluno[\"idade\"] = 23\n",
    "print(aluno[\"idade\"])\n",
    "aluno[\"curso\"] = \"Engenharia\"\n",
    "print(aluno)\n",
    "\n",
    "aluno.pop(\"curso\")\n",
    "print(aluno)\n",
    "\n",
    "aluno.values()\n",
    "print(aluno.values())\n",
    "\n",
    "print(list(aluno.values()))"
   ]
  },
  {
   "cell_type": "code",
   "execution_count": 8,
   "id": "ad82b27c",
   "metadata": {},
   "outputs": [
    {
     "name": "stdout",
     "output_type": "stream",
     "text": [
      "1\n",
      "X: 3, Y: 4\n"
     ]
    }
   ],
   "source": [
    "# Tupla\n",
    "# Uma tupla é uma coleção ordenada e imutável de elementos.\n",
    "# Apesar de armazenar múltiplos valores, tupla não é um conjunto.\n",
    "# Conjunto (set) é uma coleção não ordenada, mutável e sem elementos duplicados.\n",
    "ponto = (3, 4)\n",
    "print(ponto.count(3))\n",
    "print(f\"X: {ponto[0]}, Y: {ponto[1]}\")"
   ]
  },
  {
   "cell_type": "code",
   "execution_count": 6,
   "id": "ad4b1083",
   "metadata": {},
   "outputs": [
    {
     "name": "stdout",
     "output_type": "stream",
     "text": [
      "União: {1, 2, 3, 4, 5}\n"
     ]
    }
   ],
   "source": [
    "# Conjunto\n",
    "# Um conjunto é uma coleção não ordenada de elementos únicos.\n",
    "# Permite operações matemáticas como união, interseção e diferença.\n",
    "conjunto1 = {1, 2, 3}\n",
    "conjunto2 = {3, 4, 5}\n",
    "uniao = conjunto1.union(conjunto2)\n",
    "intersecao = conjunto1.intersection(conjunto2)\n",
    "diferenca = conjunto1.difference(conjunto2)\n",
    "print(f\"União: {uniao}\")"
   ]
  },
  {
   "cell_type": "code",
   "execution_count": 3,
   "id": "b73402e1",
   "metadata": {},
   "outputs": [
    {
     "name": "stdout",
     "output_type": "stream",
     "text": [
      "Lista de Nomes:\n",
      "Ana\n",
      "Bruno\n",
      "Carlos\n",
      "Diana\n",
      "Eduardo\n"
     ]
    }
   ],
   "source": [
    "# Exercício 1\n",
    "# Lista com 5 nomes\n",
    "nomes = [\"Ana\", \"Bruno\", \"Carlos\", \"Diana\", \"Eduardo\"]\n",
    "\n",
    "print(\"Lista de Nomes:\")\n",
    "for nome in nomes:\n",
    "    print(nome)"
   ]
  },
  {
   "cell_type": "code",
   "execution_count": 9,
   "id": "26d1e35e",
   "metadata": {},
   "outputs": [
    {
     "name": "stdout",
     "output_type": "stream",
     "text": [
      "Título: Aprendendo Python\n",
      "#----------------------------------------#\n",
      "Detalhes do Livro:\n",
      "titulo: Aprendendo Python\n",
      "autor: Maria Silva\n",
      "ano: 2020\n"
     ]
    }
   ],
   "source": [
    "# Exercício 2\n",
    "# Dicionário de livro\n",
    "livro = {\"titulo\": \"Aprendendo Python\", \"autor\": \"Maria Silva\", \"ano\": 2020}\n",
    "print(f\"Título: {livro['titulo']}\")\n",
    "\n",
    "print(\"#\" + \"-\" * 40 + \"#\")\n",
    "\n",
    "print(\"Detalhes do Livro:\")\n",
    "for atributo, informação in livro.items():\n",
    "    print(f\"{atributo}: {informação}\")"
   ]
  },
  {
   "cell_type": "code",
   "execution_count": 10,
   "id": "f3bea7de",
   "metadata": {},
   "outputs": [
    {
     "name": "stdout",
     "output_type": "stream",
     "text": [
      "Coordenadas: X = 10, Y = 20\n"
     ]
    }
   ],
   "source": [
    "# Exercício 3\n",
    "# Tupla com coordenadas\n",
    "coordenadas = (10, 20)\n",
    "print(f\"Coordenadas: X = {coordenadas[0]}, Y = {coordenadas[1]}\")"
   ]
  }
 ],
 "metadata": {
  "kernelspec": {
   "display_name": ".pyenv",
   "language": "python",
   "name": "python3"
  },
  "language_info": {
   "codemirror_mode": {
    "name": "ipython",
    "version": 3
   },
   "file_extension": ".py",
   "mimetype": "text/x-python",
   "name": "python",
   "nbconvert_exporter": "python",
   "pygments_lexer": "ipython3",
   "version": "3.13.2"
  }
 },
 "nbformat": 4,
 "nbformat_minor": 5
}
