{
 "cells": [
  {
   "cell_type": "code",
   "execution_count": 29,
   "id": "96de3ab6",
   "metadata": {},
   "outputs": [
    {
     "name": "stdout",
     "output_type": "stream",
     "text": [
      "Primeira linha\n",
      "Segunda linha\n"
     ]
    }
   ],
   "source": [
    "# Escrita\n",
    "# O código abaixo demonstra como escrever e ler arquivos em Python.\n",
    "# Primeiro, abre-se o arquivo \"dados.txt\" no modo de escrita (\"w\"), escreve duas linhas e fecha o arquivo.\n",
    "# Depois, o arquivo é aberto no modo de leitura (\"r\") e seu conteúdo é exibido.\n",
    "\n",
    "# Modos de abertura de arquivos:\n",
    "# - \"w\": write (escrita) - cria um novo arquivo ou sobrescreve um existente.\n",
    "# - \"r\": read (leitura) - abre um arquivo existente para leitura.\n",
    "# - \"a\": append (acréscimo) - adiciona conteúdo ao final de um arquivo existente, sem apagar o conteúdo anterior.\n",
    "with open(\"dados.txt\", \"w\") as arquivo:\n",
    "    arquivo.write(\"Primeira linha\\nSegunda linha\")\n",
    "\n",
    "# Leitura\n",
    "with open(\"dados.txt\", \"r\") as arquivo:\n",
    "    conteudo = arquivo.read()\n",
    "    print(conteudo)\n"
   ]
  },
  {
   "cell_type": "code",
   "execution_count": 30,
   "id": "10deca26",
   "metadata": {},
   "outputs": [],
   "source": [
    "# Manipulação de arquivos\n",
    "with open(\"dados.txt\", \"a\") as arquivo:\n",
    "    conteudo = arquivo.write(\"\\nTerceira linha\")\n"
   ]
  },
  {
   "cell_type": "code",
   "execution_count": 31,
   "id": "aebba5ee",
   "metadata": {},
   "outputs": [
    {
     "name": "stdout",
     "output_type": "stream",
     "text": [
      "Total de linhas: 3\n"
     ]
    }
   ],
   "source": [
    "# Retirar a última linha e imprimir o texto removido\n",
    "with open(\"dados.txt\", \"r\") as arquivo:\n",
    "    linhas = arquivo.readlines()\n",
    "    print(f\"Total de linhas: {len(linhas)}\")\n"
   ]
  },
  {
   "cell_type": "code",
   "execution_count": 32,
   "id": "37bea82e",
   "metadata": {},
   "outputs": [
    {
     "name": "stdout",
     "output_type": "stream",
     "text": [
      "Linha removida: Terceira linha\n"
     ]
    }
   ],
   "source": [
    "ultima_linha = linhas.pop()  # Remove e armazena a última linha\n",
    "print(f\"Linha removida: {ultima_linha.strip()}\")\n",
    "\n",
    "# Reescreve o arquivo sem a última linha\n",
    "with open(\"dados.txt\", \"w\") as arquivo:\n",
    "    arquivo.writelines(linhas)"
   ]
  },
  {
   "cell_type": "code",
   "execution_count": 33,
   "id": "de9813e2",
   "metadata": {},
   "outputs": [],
   "source": [
    "# Exercício 1\n",
    "# Escreva nomes de alunos em um arquivo\n",
    "with open(\"alunos.txt\", \"w\") as arquivo:\n",
    "    while True:\n",
    "        nome = input(\"Digite o nome do aluno (ou 'sair' para encerrar): \")\n",
    "        if nome.lower() == \"sair\":\n",
    "            break\n",
    "        arquivo.write(nome + \"\\n\")"
   ]
  },
  {
   "cell_type": "code",
   "execution_count": 34,
   "id": "fd304bec",
   "metadata": {},
   "outputs": [
    {
     "name": "stdout",
     "output_type": "stream",
     "text": [
      "Dgeison\n",
      "Iara\n",
      "Izadora\n"
     ]
    }
   ],
   "source": [
    "# Exercício 2\n",
    "# Leia e exiba linha por linha\n",
    "with open(\"alunos.txt\", \"r\") as arquivo:\n",
    "    for linha in arquivo:\n",
    "        print(linha.strip())  # .strip() remove espaços em branco e quebras de linha"
   ]
  },
  {
   "cell_type": "code",
   "execution_count": 35,
   "id": "0a597eb6",
   "metadata": {},
   "outputs": [
    {
     "name": "stdout",
     "output_type": "stream",
     "text": [
      "Total de palavras no arquivo: 3\n"
     ]
    }
   ],
   "source": [
    "# Exercício 3\n",
    "# Conte palavras em um arquivo\n",
    "def contar_palavras(arquivo):\n",
    "    with open(arquivo, \"r\") as f:\n",
    "        conteudo = f.read()\n",
    "        palavras = conteudo.split()\n",
    "        return len(palavras)\n",
    "\n",
    "contar_palavras(\"alunos.txt\")\n",
    "\n",
    "print(f\"Total de palavras no arquivo: {contar_palavras('alunos.txt')}\")"
   ]
  }
 ],
 "metadata": {
  "kernelspec": {
   "display_name": ".pyenv",
   "language": "python",
   "name": "python3"
  },
  "language_info": {
   "codemirror_mode": {
    "name": "ipython",
    "version": 3
   },
   "file_extension": ".py",
   "mimetype": "text/x-python",
   "name": "python",
   "nbconvert_exporter": "python",
   "pygments_lexer": "ipython3",
   "version": "3.13.2"
  }
 },
 "nbformat": 4,
 "nbformat_minor": 5
}
