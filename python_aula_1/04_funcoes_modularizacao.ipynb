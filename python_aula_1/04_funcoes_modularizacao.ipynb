{
 "cells": [
  {
   "cell_type": "code",
   "execution_count": 1,
   "id": "c1a5ae65",
   "metadata": {},
   "outputs": [
    {
     "name": "stdout",
     "output_type": "stream",
     "text": [
      "Olá, Ana!\n",
      "Soma: 15\n"
     ]
    }
   ],
   "source": [
    "# Exemplo\n",
    "def saudacao(nome):\n",
    "    return f\"Olá, {nome}!\"\n",
    "\n",
    "\n",
    "def soma(a, b):\n",
    "    return a + b\n",
    "\n",
    "\n",
    "print(saudacao(\"Ana\"))\n",
    "print(\"Soma:\", soma(10, 5))"
   ]
  },
  {
   "cell_type": "code",
   "execution_count": 2,
   "id": "a0d6ae0b",
   "metadata": {},
   "outputs": [
    {
     "name": "stdout",
     "output_type": "stream",
     "text": [
      "Multiplicação: 50\n"
     ]
    }
   ],
   "source": [
    "# Exercício 1\n",
    "# Função que multiplica dois números\n",
    "def multiplicar(a, b):\n",
    "    return a * b\n",
    "\n",
    "print(\"Multiplicação:\", multiplicar(10, 5))"
   ]
  },
  {
   "cell_type": "code",
   "execution_count": 3,
   "id": "5a1208ed",
   "metadata": {},
   "outputs": [
    {
     "name": "stdout",
     "output_type": "stream",
     "text": [
      "É par: True\n"
     ]
    }
   ],
   "source": [
    "# Exercício 2\n",
    "# Verifique se um número é par\n",
    "\n",
    "def eh_par(numero):\n",
    "    if numero % 2 == 0:\n",
    "        return True\n",
    "    else:\n",
    "        return False\n",
    "    \n",
    "print(\"É par:\", eh_par(10))"
   ]
  },
  {
   "cell_type": "code",
   "execution_count": 4,
   "id": "90656a2f",
   "metadata": {},
   "outputs": [
    {
     "name": "stdout",
     "output_type": "stream",
     "text": [
      "Fatorial de 5: 120\n"
     ]
    }
   ],
   "source": [
    "# Exercício 3\n",
    "# Calcule o fatorial de um número\n",
    "def fatorial(n):\n",
    "    if n == 0 or n == 1:\n",
    "        return 1\n",
    "    else:\n",
    "        return n * fatorial(n - 1)\n",
    "    \n",
    "print(\"Fatorial de 5:\", fatorial(5))"
   ]
  }
 ],
 "metadata": {
  "kernelspec": {
   "display_name": ".pyenv",
   "language": "python",
   "name": "python3"
  },
  "language_info": {
   "codemirror_mode": {
    "name": "ipython",
    "version": 3
   },
   "file_extension": ".py",
   "mimetype": "text/x-python",
   "name": "python",
   "nbconvert_exporter": "python",
   "pygments_lexer": "ipython3",
   "version": "3.13.2"
  }
 },
 "nbformat": 4,
 "nbformat_minor": 5
}
