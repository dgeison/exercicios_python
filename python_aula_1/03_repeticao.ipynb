{
 "cells": [
  {
   "cell_type": "code",
   "execution_count": null,
   "id": "980d9d5d",
   "metadata": {},
   "outputs": [
    {
     "name": "stdout",
     "output_type": "stream",
     "text": [
      "Número: 1\n",
      "Número: 2\n",
      "Número: 3\n",
      "Número: 4\n",
      "Número: 5\n",
      "Contador: 1\n",
      "Contador: 2\n",
      "Contador: 3\n",
      "Contador: 4\n",
      "Contador: 5\n"
     ]
    }
   ],
   "source": [
    "# Exemplo com for\n",
    "for i in range(1, 6):\n",
    "    print(f\"Número: {i}\")\n",
    "\n",
    "# Exemplo com while\n",
    "contador = 1\n",
    "while contador <= 5:\n",
    "    print(f\"Contador: {contador}\")\n",
    "    contador += 1"
   ]
  },
  {
   "cell_type": "code",
   "execution_count": null,
   "id": "d52d7917",
   "metadata": {},
   "outputs": [
    {
     "name": "stdout",
     "output_type": "stream",
     "text": [
      "1 2 3 4 5 6 7 8 9 10 "
     ]
    }
   ],
   "source": [
    "# Exercício 1\n",
    "# Mostre os números de 1 a 10\n",
    "\n",
    "# usando for e while\n",
    "# Com for (Usado quando você sabe exatamente quantas vezes quer repetir algo.)\n",
    "for i in range(1, 11):\n",
    "    print(i, end=\" \")"
   ]
  },
  {
   "cell_type": "code",
   "execution_count": null,
   "id": "01898755",
   "metadata": {},
   "outputs": [
    {
     "name": "stdout",
     "output_type": "stream",
     "text": [
      "1\n",
      "2\n",
      "3\n",
      "4\n",
      "5\n",
      "6\n",
      "7\n",
      "8\n",
      "9\n",
      "10\n"
     ]
    }
   ],
   "source": [
    "valor = 0\n",
    "for i in range(1, 11):\n",
    "    valor += 1\n",
    "    print(valor)"
   ]
  },
  {
   "cell_type": "code",
   "execution_count": null,
   "id": "98d849f1",
   "metadata": {},
   "outputs": [
    {
     "name": "stdout",
     "output_type": "stream",
     "text": [
      "1\n",
      "2\n",
      "3\n",
      "4\n",
      "5\n",
      "6\n",
      "7\n",
      "8\n",
      "9\n",
      "10\n"
     ]
    }
   ],
   "source": [
    "# Com while (Usado quando você não sabe quantas vezes quer repetir algo.)\n",
    "contador = 1\n",
    "while contador <= 10:\n",
    "    print(contador)\n",
    "    contador += 1"
   ]
  },
  {
   "cell_type": "code",
   "execution_count": null,
   "id": "b4f10cda",
   "metadata": {},
   "outputs": [
    {
     "name": "stdout",
     "output_type": "stream",
     "text": [
      "Soma dos pares (for): 2550\n",
      "Soma dos pares (while): 2550\n"
     ]
    }
   ],
   "source": [
    "# Exercício 2\n",
    "# Some os números pares de 1 a 100\n",
    "\n",
    "# Usando for\n",
    "soma = 0\n",
    "for i in range(1, 101):\n",
    "    if i % 2 == 0:\n",
    "        soma += i\n",
    "\n",
    "print(f\"Soma dos pares (for): {soma}\")\n",
    "\n",
    "\n",
    "# Usando while\n",
    "soma = 0\n",
    "contador = 1\n",
    "while contador <= 100:\n",
    "    if contador % 2 == 0:\n",
    "        soma += contador\n",
    "    contador += 1\n",
    "print(f\"Soma dos pares (while): {soma}\")"
   ]
  },
  {
   "cell_type": "code",
   "execution_count": null,
   "id": "38841fde",
   "metadata": {},
   "outputs": [
    {
     "name": "stdout",
     "output_type": "stream",
     "text": [
      "10\n",
      "9\n",
      "8\n",
      "7\n",
      "6\n",
      "5\n",
      "4\n",
      "3\n",
      "2\n",
      "1\n",
      "0\n",
      "10\n",
      "9\n",
      "8\n",
      "7\n",
      "6\n",
      "5\n",
      "4\n",
      "3\n",
      "2\n",
      "1\n",
      "0\n"
     ]
    }
   ],
   "source": [
    "# Exercício 3\n",
    "# Crie um contador regressivo de 10 a 0\n",
    "# Usando for\n",
    "for i in range(10, -1, -1):\n",
    "    print(i)\n",
    "\n",
    "# Usando while\n",
    "contador = 10\n",
    "while contador >= 0:\n",
    "    print(contador)\n",
    "    contador -= 1"
   ]
  }
 ],
 "metadata": {
  "kernelspec": {
   "display_name": ".pyenv",
   "language": "python",
   "name": "python3"
  },
  "language_info": {
   "codemirror_mode": {
    "name": "ipython",
    "version": 3
   },
   "file_extension": ".py",
   "mimetype": "text/x-python",
   "name": "python",
   "nbconvert_exporter": "python",
   "pygments_lexer": "ipython3",
   "version": "3.13.2"
  }
 },
 "nbformat": 4,
 "nbformat_minor": 5
}
