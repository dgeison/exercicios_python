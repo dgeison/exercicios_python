{
 "cells": [
  {
   "cell_type": "code",
   "execution_count": 1,
   "id": "5d13dd79",
   "metadata": {},
   "outputs": [
    {
     "name": "stdout",
     "output_type": "stream",
     "text": [
      "Número positivo\n"
     ]
    }
   ],
   "source": [
    "# Exemplo\n",
    "numero = int(input(\"Digite um número: \"))\n",
    "if numero > 0:\n",
    "    print(\"Número positivo\")\n",
    "elif numero < 0:\n",
    "    print(\"Número negativo\")\n",
    "else:\n",
    "    print(\"Zero\")"
   ]
  },
  {
   "cell_type": "code",
   "execution_count": 4,
   "id": "3807a9e5",
   "metadata": {},
   "outputs": [
    {
     "name": "stdout",
     "output_type": "stream",
     "text": [
      "3 é maior que 2\n"
     ]
    }
   ],
   "source": [
    "# Exercício 1\n",
    "# Peça dois números e diga qual é maior\n",
    "num1 = int(input(\"Digite o primeiro número: \"))\n",
    "num2 = int(input(\"Digite o segundo número: \"))\n",
    "if num1 > num2:\n",
    "    print(f\"{num1} é maior que {num2}\")\n",
    "\n",
    "elif num1 < num2:\n",
    "    print(f\"{num2} é maior que {num1}\")\n",
    "\n",
    "else:\n",
    "    print(\"Os números são iguais\")"
   ]
  },
  {
   "cell_type": "code",
   "execution_count": 5,
   "id": "15e6e18a",
   "metadata": {},
   "outputs": [
    {
     "name": "stdout",
     "output_type": "stream",
     "text": [
      "4 é par\n"
     ]
    }
   ],
   "source": [
    "# Exercício 2\n",
    "# Verifique se um número é par ou ímpar\n",
    "num = int(input(\"Digite um número: \"))\n",
    "if num % 2 == 0:\n",
    "    print(f\"{num} é par\")\n",
    "else:\n",
    "    print(f\"{num} é ímpar\")"
   ]
  },
  {
   "cell_type": "code",
   "execution_count": 6,
   "id": "c67ccd43",
   "metadata": {},
   "outputs": [
    {
     "name": "stdout",
     "output_type": "stream",
     "text": [
      "Você não pode votar\n"
     ]
    }
   ],
   "source": [
    "# Exercício 3\n",
    "# Diga se a pessoa pode votar (idade >= 16)\n",
    "idade = int(input(\"Digite sua idade: \"))\n",
    "if idade >= 16:\n",
    "    print(\"Você pode votar\")\n",
    "else:\n",
    "    print(\"Você não pode votar\")"
   ]
  }
 ],
 "metadata": {
  "kernelspec": {
   "display_name": ".pyenv",
   "language": "python",
   "name": "python3"
  },
  "language_info": {
   "codemirror_mode": {
    "name": "ipython",
    "version": 3
   },
   "file_extension": ".py",
   "mimetype": "text/x-python",
   "name": "python",
   "nbconvert_exporter": "python",
   "pygments_lexer": "ipython3",
   "version": "3.13.2"
  }
 },
 "nbformat": 4,
 "nbformat_minor": 5
}
