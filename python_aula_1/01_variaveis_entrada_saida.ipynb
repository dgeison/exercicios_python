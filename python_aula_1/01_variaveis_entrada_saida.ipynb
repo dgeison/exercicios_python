{
 "cells": [
  {
   "cell_type": "code",
   "execution_count": null,
   "id": "b9015e64",
   "metadata": {},
   "outputs": [
    {
     "name": "stdout",
     "output_type": "stream",
     "text": [
      "\n",
      "Olá, Dgeison S. Peixoto! Você tem 49 anos.\n"
     ]
    }
   ],
   "source": [
    "# Exemplo\n",
    "nome = input(\"Digite seu nome: \")\n",
    "\n",
    "\n",
    "idade = int(input(\"Digite sua idade: \"))\n",
    "print(f\"Olá, {nome}! Você tem {idade} anos.\")"
   ]
  },
  {
   "cell_type": "code",
   "execution_count": null,
   "id": "591a7018",
   "metadata": {},
   "outputs": [
    {
     "name": "stdout",
     "output_type": "stream",
     "text": [
      "Olá, Dgeison S. Peixoto! Você nasceu na cidade de Brasília.\n"
     ]
    }
   ],
   "source": [
    "# Exercício 1\n",
    "\n",
    "# Solicite nome e cidade de nascimento e imprima uma mensagem\n",
    "nome = input(\"Digite seu nome: \")\n",
    "cidade = input(\"Digite sua cidade de nascimento: \")\n",
    "print(f\"Olá, {nome}! Você nasceu na cidade de {cidade}.\")\n"
   ]
  },
  {
   "cell_type": "code",
   "execution_count": null,
   "id": "e84d55a9",
   "metadata": {},
   "outputs": [
    {
     "name": "stdout",
     "output_type": "stream",
     "text": [
      "A soma de 3 e 4 é 7.\n"
     ]
    }
   ],
   "source": [
    "# Exercício 2\n",
    "\n",
    "# Peça dois números e exiba a soma\n",
    "num1 = int(input(\"Digite o primeiro número: \"))\n",
    "num2 = int(input(\"Digite o segundo número: \"))\n",
    "soma = num1 + num2\n",
    "\n",
    "print(f\"A soma de {num1} e {num2} é {soma}.\")\n"
   ]
  },
  {
   "cell_type": "code",
   "execution_count": 9,
   "id": "b02be865",
   "metadata": {},
   "outputs": [
    {
     "name": "stdout",
     "output_type": "stream",
     "text": [
      "A área do retângulo é 12.0 unidades quadradas.\n"
     ]
    }
   ],
   "source": [
    "# Exercício 3\n",
    "\n",
    "# Calcule a área de um retângulo\n",
    "largura = float(input(\"Digite a largura do retângulo: \"))\n",
    "altura = float(input(\"Digite a altura do retângulo: \"))\n",
    "area = largura * altura\n",
    "\n",
    "print(f\"A área do retângulo é {area} unidades quadradas.\")"
   ]
  },
  {
   "cell_type": "markdown",
   "id": "846b619e",
   "metadata": {},
   "source": []
  }
 ],
 "metadata": {
  "kernelspec": {
   "display_name": ".pyenv",
   "language": "python",
   "name": "python3"
  },
  "language_info": {
   "codemirror_mode": {
    "name": "ipython",
    "version": 3
   },
   "file_extension": ".py",
   "mimetype": "text/x-python",
   "name": "python",
   "nbconvert_exporter": "python",
   "pygments_lexer": "ipython3",
   "version": "3.13.2"
  }
 },
 "nbformat": 4,
 "nbformat_minor": 5
}
